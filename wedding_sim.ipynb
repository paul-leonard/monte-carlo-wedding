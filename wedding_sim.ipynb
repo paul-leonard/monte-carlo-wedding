{
 "cells": [
  {
   "cell_type": "code",
   "execution_count": 1,
   "source": [
    "import pandas as pd\n",
    "import numpy as np\n",
    "import matplotlib as plt"
   ],
   "outputs": [],
   "metadata": {}
  },
  {
   "cell_type": "markdown",
   "source": [
    "INPUT:\n",
    "CSV file with the headers (\"Chance_of_Attendance,Party_Size\") on the first line.  Each line then contains two values separated by a comma.  The first value is the chance of that guest party attending the wedding.  The second number is the total number of people in that guest party (single, couple, family).\n",
    "\n",
    "ASSUMPTIONS:\n",
    "Either the whole party attends, or none of the party attends."
   ],
   "metadata": {}
  },
  {
   "cell_type": "code",
   "execution_count": 2,
   "source": [
    "df = pd.read_csv('wedding_guests.csv')\n",
    "\n",
    "num_simulations = 1000\n",
    "sim_results = []\n",
    "\n",
    "for i in range(num_simulations):\n",
    "  df['Attending?'] = df.apply(lambda row: np.random.choice([1,0],p=[row.Chance_of_Attendance, 1-row.Chance_of_Attendance]),axis=1)\n",
    "\n",
    "  df['Attending_Size'] = df['Party_Size'] * df['Attending?']\n",
    "\n",
    "  sim_results.append([\n",
    "  df['Attending?'].sum(),\n",
    "  df['Attending_Size'].mean(),\n",
    "  df['Attending_Size'].sum().round(0)])\n",
    "\n",
    "  results_df = pd.DataFrame.from_records(sim_results, columns=['Parties Attending','Average Party Size','Total Attendees'])"
   ],
   "outputs": [],
   "metadata": {}
  },
  {
   "cell_type": "code",
   "execution_count": 3,
   "source": [
    "total_invited = df['Party_Size'].sum()\n",
    "sim_max = results_df['Total Attendees'].max()\n",
    "\n",
    "print(f\"Typically, wedding websites will tell you to expect 80% of your invitees to attend.  You have invited {total_invited} people to the wedding.  The 80% rule would tell you to expect {round(0.8*total_invited)} people.  The highest attendance count seen in {num_simulations} simulations was {sim_max} people.\")"
   ],
   "outputs": [
    {
     "output_type": "stream",
     "name": "stdout",
     "text": [
      "Typically, wedding websites will tell you to expect 80% of your invitees to attend.  You have invited 148 people to the wedding.  The 80% rule would tell you to expect 118 people.  The highest attendance count seen in 1000 simulations was 120 people.\n"
     ]
    }
   ],
   "metadata": {}
  },
  {
   "cell_type": "code",
   "execution_count": 4,
   "source": [
    "results_df.describe().style.format(precision=2)"
   ],
   "outputs": [
    {
     "output_type": "execute_result",
     "data": {
      "text/html": [
       "<style type=\"text/css\">\n",
       "</style>\n",
       "<table id=\"T_ec73d_\">\n",
       "  <thead>\n",
       "    <tr>\n",
       "      <th class=\"blank level0\" >&nbsp;</th>\n",
       "      <th class=\"col_heading level0 col0\" >Parties Attending</th>\n",
       "      <th class=\"col_heading level0 col1\" >Average Party Size</th>\n",
       "      <th class=\"col_heading level0 col2\" >Total Attendees</th>\n",
       "    </tr>\n",
       "  </thead>\n",
       "  <tbody>\n",
       "    <tr>\n",
       "      <th id=\"T_ec73d_level0_row0\" class=\"row_heading level0 row0\" >count</th>\n",
       "      <td id=\"T_ec73d_row0_col0\" class=\"data row0 col0\" >1000.00</td>\n",
       "      <td id=\"T_ec73d_row0_col1\" class=\"data row0 col1\" >1000.00</td>\n",
       "      <td id=\"T_ec73d_row0_col2\" class=\"data row0 col2\" >1000.00</td>\n",
       "    </tr>\n",
       "    <tr>\n",
       "      <th id=\"T_ec73d_level0_row1\" class=\"row_heading level0 row1\" >mean</th>\n",
       "      <td id=\"T_ec73d_row1_col0\" class=\"data row1 col0\" >60.01</td>\n",
       "      <td id=\"T_ec73d_row1_col1\" class=\"data row1 col1\" >1.21</td>\n",
       "      <td id=\"T_ec73d_row1_col2\" class=\"data row1 col2\" >103.19</td>\n",
       "    </tr>\n",
       "    <tr>\n",
       "      <th id=\"T_ec73d_level0_row2\" class=\"row_heading level0 row2\" >std</th>\n",
       "      <td id=\"T_ec73d_row2_col0\" class=\"data row2 col0\" >3.45</td>\n",
       "      <td id=\"T_ec73d_row2_col1\" class=\"data row2 col1\" >0.07</td>\n",
       "      <td id=\"T_ec73d_row2_col2\" class=\"data row2 col2\" >6.24</td>\n",
       "    </tr>\n",
       "    <tr>\n",
       "      <th id=\"T_ec73d_level0_row3\" class=\"row_heading level0 row3\" >min</th>\n",
       "      <td id=\"T_ec73d_row3_col0\" class=\"data row3 col0\" >49.00</td>\n",
       "      <td id=\"T_ec73d_row3_col1\" class=\"data row3 col1\" >1.01</td>\n",
       "      <td id=\"T_ec73d_row3_col2\" class=\"data row3 col2\" >86.00</td>\n",
       "    </tr>\n",
       "    <tr>\n",
       "      <th id=\"T_ec73d_level0_row4\" class=\"row_heading level0 row4\" >25%</th>\n",
       "      <td id=\"T_ec73d_row4_col0\" class=\"data row4 col0\" >58.00</td>\n",
       "      <td id=\"T_ec73d_row4_col1\" class=\"data row4 col1\" >1.16</td>\n",
       "      <td id=\"T_ec73d_row4_col2\" class=\"data row4 col2\" >99.00</td>\n",
       "    </tr>\n",
       "    <tr>\n",
       "      <th id=\"T_ec73d_level0_row5\" class=\"row_heading level0 row5\" >50%</th>\n",
       "      <td id=\"T_ec73d_row5_col0\" class=\"data row5 col0\" >60.00</td>\n",
       "      <td id=\"T_ec73d_row5_col1\" class=\"data row5 col1\" >1.22</td>\n",
       "      <td id=\"T_ec73d_row5_col2\" class=\"data row5 col2\" >104.00</td>\n",
       "    </tr>\n",
       "    <tr>\n",
       "      <th id=\"T_ec73d_level0_row6\" class=\"row_heading level0 row6\" >75%</th>\n",
       "      <td id=\"T_ec73d_row6_col0\" class=\"data row6 col0\" >62.00</td>\n",
       "      <td id=\"T_ec73d_row6_col1\" class=\"data row6 col1\" >1.27</td>\n",
       "      <td id=\"T_ec73d_row6_col2\" class=\"data row6 col2\" >108.00</td>\n",
       "    </tr>\n",
       "    <tr>\n",
       "      <th id=\"T_ec73d_level0_row7\" class=\"row_heading level0 row7\" >max</th>\n",
       "      <td id=\"T_ec73d_row7_col0\" class=\"data row7 col0\" >70.00</td>\n",
       "      <td id=\"T_ec73d_row7_col1\" class=\"data row7 col1\" >1.41</td>\n",
       "      <td id=\"T_ec73d_row7_col2\" class=\"data row7 col2\" >120.00</td>\n",
       "    </tr>\n",
       "  </tbody>\n",
       "</table>\n"
      ],
      "text/plain": [
       "<pandas.io.formats.style.Styler at 0x10f178ee0>"
      ]
     },
     "metadata": {},
     "execution_count": 4
    }
   ],
   "metadata": {}
  },
  {
   "cell_type": "code",
   "execution_count": 11,
   "source": [
    "# ensure each bin is 1 person wide\n",
    "bin_sizing = range(results_df['Total Attendees'].min()-5,results_df['Total Attendees'].max()+5,1)\n",
    "\n",
    "# create initial histogram\n",
    "ax = results_df['Total Attendees'].plot(kind='hist', bins=bin_sizing, align='left', figsize=(8,4))\n",
    "\n",
    "# precalculate values for title and labels\n",
    "sim_mean = results_df['Total Attendees'].mean().round(1)\n",
    "sim_std = results_df['Total Attendees'].std().round(1)\n",
    "\n",
    "# format and add info to the plot\n",
    "ax.set_title(f'Wedding Attendance Distribution ($\\mu=${sim_mean}, $\\sigma=${sim_std})')\n",
    "ax.set_xlabel('Attendee Count')\n",
    "ax.set_ylabel(f'Frequency in {num_simulations} Simulations')\n",
    "ax.xaxis.set_minor_locator(plt.ticker.MultipleLocator(1))\n",
    "ax.grid(which='major', axis='both')\n",
    "\n",
    "# calculate the normal distribution curve to show it fits\n",
    "y = ((1 / (np.sqrt(2 * np.pi) * sim_std)) * np.exp(-0.5 * (1 / sim_std * (bin_sizing - sim_mean))**2))\n",
    "ax.plot(bin_sizing, y*num_simulations, '--')\n",
    "ax.legend(['Normal Distribution Curve'])\n"
   ],
   "outputs": [
    {
     "output_type": "execute_result",
     "data": {
      "text/plain": [
       "<matplotlib.legend.Legend at 0x12a396b50>"
      ]
     },
     "metadata": {},
     "execution_count": 11
    },
    {
     "output_type": "display_data",
     "data": {
      "image/png": "[encoded data removed]",
      "text/plain": [
       "<Figure size 576x288 with 1 Axes>"
      ]
     },
     "metadata": {
      "needs_background": "light"
     }
    }
   ],
   "metadata": {}
  },
  {
   "cell_type": "markdown",
   "source": [],
   "metadata": {}
  }
 ],
 "metadata": {
  "orig_nbformat": 4,
  "language_info": {
   "name": "python",
   "version": "3.9.7",
   "mimetype": "text/x-python",
   "codemirror_mode": {
    "name": "ipython",
    "version": 3
   },
   "pygments_lexer": "ipython3",
   "nbconvert_exporter": "python",
   "file_extension": ".py"
  },
  "kernelspec": {
   "name": "python3",
   "display_name": "Python 3.9.7 64-bit ('.venv': poetry)"
  },
  "interpreter": {
   "hash": "9bdb9c37475974b905a243d43f4e6677f06520167fbf65798c9e0eb8a5dee7f4"
  }
 },
 "nbformat": 4,
 "nbformat_minor": 2
}