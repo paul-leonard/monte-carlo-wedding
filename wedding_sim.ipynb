{
 "cells": [
  {
   "cell_type": "markdown",
   "source": [
    "# Wedding Attendance Estimator\n",
    "\n",
    "## Overview\n",
    "This Jupyter Notebook uses a Monte Carlo Simulation to estimate the distribution of attendance to a wedding using Python, NumPy, Matplotlib, and pandas.  The analysis returns potential ranges of people to expect at your wedding with associated levels of confidence.  Using accurate attendance estimates and ranges are key to planning successful events.\n",
    "\n",
    "## Input\n",
    "Input is provided by the user in the form of a CSV file with the headers (\"Chance_of_Attendance,Party_Size\") on the first line.  Each subsequent line then contains two values separated by a comma describing that *guest party*.  A guest party should be considered a close and collected group of guests such as a single person, a couple, or a family.  The first value is the chance of that guest party attending the wedding.  The second number is the total number of people in that guest party (single, couple, family).\n",
    "\n",
    "### Input Modifications\n",
    "A Notebook variable `include_plus_ones` can be set to True or False.  A True setting adds a plus-one invite to any *guest party* that had an original total size of 1 person in the CSV file.  The plus-one invite may go used or unused.  A random draw with a stated probability distribution is used to decide if each plus-one is used in each simulation or not.  The uniform probability of a plus-one attending is common to all guest parties and can be set using the variable `chance_of_plus_ones`.  A False setting of `include_plus_ones` leaves each guest party at the size defined in the CSV input file.\n",
    "\n",
    "## Output\n",
    "The results of the analysis are provided in textual, tabular, and graphical representations to help the user better understand the likely event attendance.\n",
    "\n",
    "## Architecture\n",
    "Input is provided to the Jupyter Notebook through a user-supplied CSV file containing a list of guest parties invited to a wedding, including their guest count and the probability of each party attending the event. The CSV is consumed into a pandas dataframe and then Monte Carlo simulations are run for the selected number of simulations, `num_simulations`. Each simulation uses NumPy's random method and the user-supplied guest party's probability to determine if each guest party attends the event or not. A resulting histogram of total wedding attendance is then displayed showing the distribution of attendees to be expected at the wedding.\n",
    "\n",
    "## Assumptions\n",
    "1. Either the whole *guest party* attends, or none of the CSV listed guest party attends.  (Exception for plus-one invites.)\n",
    "1. Each *guest party's* decision to attend the wedding or not is independent of the decision of another *guest party's* decision to attend or not.  For example, the simulation does not take into account dependent situations such as  \"I'm only going if my brother also attends.\" or \"I'm only going if my ex isn't attending.\"\n",
    "1. The user did a fantastic job predicting the chances of each *guest party* attending in the CSV file.  The user should try to reflect influencing circumstances such as local/out-of-town guest, financial ability, calendar availability, and strength of relationship when estimating the chance of a guest party attending.\n",
    "1. When using the plus-one invite function, all plus-one invites have the same probability of attending."
   ],
   "metadata": {}
  },
  {
   "cell_type": "code",
   "execution_count": 1,
   "source": [
    "import pandas as pd\n",
    "import numpy as np\n",
    "import matplotlib as plt\n",
    "from tabulate import tabulate\n",
    "\n",
    "# Importing and reading CSV file provided by user\n",
    "df = pd.read_csv('wedding_guests.csv')\n",
    "\n",
    "# can adjust number of simulations to increase accuracy at expense of runtime\n",
    "num_simulations = 10000\n",
    "include_plus_ones = True\n",
    "chance_of_plus_ones = 0.6\n",
    "sim_results = []\n",
    "plus_one_sim_results = []\n",
    "\n",
    "def calc_plus_one(size):\n",
    "  if size == 0:\n",
    "    return 0\n",
    "  elif size > 1:\n",
    "    return size\n",
    "  else:\n",
    "    plus_one_response = np.random.choice([1,0],p=[chance_of_plus_ones, 1-chance_of_plus_ones])\n",
    "    return int(size + plus_one_response)\n",
    "\n",
    "for i in range(num_simulations):\n",
    "  # randomly determine if each party will be attending this instance of the wedding using weighted probabilities provided in the user CSV input\n",
    "  df['Attending?'] = df.apply(lambda row: np.random.choice([1,0],p=[row.Chance_of_Attendance, 1-row.Chance_of_Attendance]),axis=1)\n",
    "\n",
    "  df['Attending_Size'] = df['Party_Size'] * df['Attending?']\n",
    "\n",
    "  if include_plus_ones:\n",
    "    df['Attending_Size'] = df.apply(lambda row: calc_plus_one(row['Attending_Size']), axis=1)\n",
    "    \n",
    "  sim_results.append([\n",
    "    df['Attending?'].sum(),\n",
    "    df['Attending_Size'].mean(),\n",
    "    df['Attending_Size'].sum().round(0),\n",
    "  ])\n",
    "\n",
    "  if include_plus_ones:\n",
    "    # infer plus-one attendance by counting total guest-parties with (Party_Size of 1) AND (Attending_Size of 2)\n",
    "    plus_one_sim_results.append([\n",
    "      df[(df.Party_Size == 1) & (df.Attending_Size == 2)].shape[0],\n",
    "    ])\n",
    "\n",
    "\n",
    "# aggregate all of the sim information and print a summary\n",
    "results_df = pd.DataFrame.from_records(sim_results, columns=['Parties Attending','Average Party Size','Total Attendees'])\n",
    "plus_one_results_df = pd.DataFrame.from_records(plus_one_sim_results, columns=['Additional Attendees'])\n",
    "\n",
    "\n",
    "if include_plus_ones:\n",
    "  # infer plus-one invites by counting total guest-parties with a Party_Size of 1\n",
    "  plus_ones_invited = df[df.Party_Size == 1].shape[0]\n",
    "  # average the total acceptance of the plus ones\n",
    "  plus_ones_attending_avg = plus_one_results_df['Additional Attendees'].mean()\n",
    "\n",
    "\n",
    "results_df.describe().style.format(precision=2)"
   ],
   "outputs": [
    {
     "output_type": "execute_result",
     "data": {
      "text/html": [
       "<style type=\"text/css\">\n",
       "</style>\n",
       "<table id=\"T_bd9aa_\">\n",
       "  <thead>\n",
       "    <tr>\n",
       "      <th class=\"blank level0\" >&nbsp;</th>\n",
       "      <th class=\"col_heading level0 col0\" >Parties Attending</th>\n",
       "      <th class=\"col_heading level0 col1\" >Average Party Size</th>\n",
       "      <th class=\"col_heading level0 col2\" >Total Attendees</th>\n",
       "    </tr>\n",
       "  </thead>\n",
       "  <tbody>\n",
       "    <tr>\n",
       "      <th id=\"T_bd9aa_level0_row0\" class=\"row_heading level0 row0\" >count</th>\n",
       "      <td id=\"T_bd9aa_row0_col0\" class=\"data row0 col0\" >10000.00</td>\n",
       "      <td id=\"T_bd9aa_row0_col1\" class=\"data row0 col1\" >10000.00</td>\n",
       "      <td id=\"T_bd9aa_row0_col2\" class=\"data row0 col2\" >10000.00</td>\n",
       "    </tr>\n",
       "    <tr>\n",
       "      <th id=\"T_bd9aa_level0_row1\" class=\"row_heading level0 row1\" >mean</th>\n",
       "      <td id=\"T_bd9aa_row1_col0\" class=\"data row1 col0\" >59.88</td>\n",
       "      <td id=\"T_bd9aa_row1_col1\" class=\"data row1 col1\" >1.33</td>\n",
       "      <td id=\"T_bd9aa_row1_col2\" class=\"data row1 col2\" >113.05</td>\n",
       "    </tr>\n",
       "    <tr>\n",
       "      <th id=\"T_bd9aa_level0_row2\" class=\"row_heading level0 row2\" >std</th>\n",
       "      <td id=\"T_bd9aa_row2_col0\" class=\"data row2 col0\" >3.24</td>\n",
       "      <td id=\"T_bd9aa_row2_col1\" class=\"data row2 col1\" >0.08</td>\n",
       "      <td id=\"T_bd9aa_row2_col2\" class=\"data row2 col2\" >6.53</td>\n",
       "    </tr>\n",
       "    <tr>\n",
       "      <th id=\"T_bd9aa_level0_row3\" class=\"row_heading level0 row3\" >min</th>\n",
       "      <td id=\"T_bd9aa_row3_col0\" class=\"data row3 col0\" >48.00</td>\n",
       "      <td id=\"T_bd9aa_row3_col1\" class=\"data row3 col1\" >1.02</td>\n",
       "      <td id=\"T_bd9aa_row3_col2\" class=\"data row3 col2\" >87.00</td>\n",
       "    </tr>\n",
       "    <tr>\n",
       "      <th id=\"T_bd9aa_level0_row4\" class=\"row_heading level0 row4\" >25%</th>\n",
       "      <td id=\"T_bd9aa_row4_col0\" class=\"data row4 col0\" >58.00</td>\n",
       "      <td id=\"T_bd9aa_row4_col1\" class=\"data row4 col1\" >1.28</td>\n",
       "      <td id=\"T_bd9aa_row4_col2\" class=\"data row4 col2\" >109.00</td>\n",
       "    </tr>\n",
       "    <tr>\n",
       "      <th id=\"T_bd9aa_level0_row5\" class=\"row_heading level0 row5\" >50%</th>\n",
       "      <td id=\"T_bd9aa_row5_col0\" class=\"data row5 col0\" >60.00</td>\n",
       "      <td id=\"T_bd9aa_row5_col1\" class=\"data row5 col1\" >1.33</td>\n",
       "      <td id=\"T_bd9aa_row5_col2\" class=\"data row5 col2\" >113.00</td>\n",
       "    </tr>\n",
       "    <tr>\n",
       "      <th id=\"T_bd9aa_level0_row6\" class=\"row_heading level0 row6\" >75%</th>\n",
       "      <td id=\"T_bd9aa_row6_col0\" class=\"data row6 col0\" >62.00</td>\n",
       "      <td id=\"T_bd9aa_row6_col1\" class=\"data row6 col1\" >1.38</td>\n",
       "      <td id=\"T_bd9aa_row6_col2\" class=\"data row6 col2\" >117.00</td>\n",
       "    </tr>\n",
       "    <tr>\n",
       "      <th id=\"T_bd9aa_level0_row7\" class=\"row_heading level0 row7\" >max</th>\n",
       "      <td id=\"T_bd9aa_row7_col0\" class=\"data row7 col0\" >70.00</td>\n",
       "      <td id=\"T_bd9aa_row7_col1\" class=\"data row7 col1\" >1.59</td>\n",
       "      <td id=\"T_bd9aa_row7_col2\" class=\"data row7 col2\" >135.00</td>\n",
       "    </tr>\n",
       "  </tbody>\n",
       "</table>\n"
      ],
      "text/plain": [
       "<pandas.io.formats.style.Styler at 0x125bb7520>"
      ]
     },
     "metadata": {},
     "execution_count": 1
    }
   ],
   "metadata": {}
  },
  {
   "cell_type": "code",
   "execution_count": 2,
   "source": [
    "## create a histogram plot to visually communicate the results of the analysis\n",
    "\n",
    "# ensure each bin is 1 person wide\n",
    "bin_sizing = range(int(results_df['Total Attendees'].min().round()-5),int(results_df['Total Attendees'].max().round()+5),1)\n",
    "\n",
    "# create initial histogram\n",
    "ax = results_df['Total Attendees'].plot(kind='hist', bins=bin_sizing, align='left', figsize=(8,4))\n",
    "\n",
    "# pre-calculate values for title and labels\n",
    "sim_mean = results_df['Total Attendees'].mean().round(1)\n",
    "sim_std = results_df['Total Attendees'].std().round(1)\n",
    "\n",
    "# format and add info to the plot\n",
    "ax.set_title(f'Wedding Attendance Distribution ($\\mu=${sim_mean}, $\\sigma=${sim_std})')\n",
    "ax.set_xlabel('Attendee Count')\n",
    "ax.set_ylabel(f'Frequency in {num_simulations} Simulations')\n",
    "ax.xaxis.set_minor_locator(plt.ticker.MultipleLocator(1))\n",
    "ax.grid(which='major', axis='both')\n",
    "\n",
    "# calculate the normal distribution curve to show it fits\n",
    "y = ((1 / (np.sqrt(2 * np.pi) * sim_std)) * np.exp(-0.5 * (1 / sim_std * (bin_sizing - sim_mean))**2))\n",
    "ax.plot(bin_sizing, y*num_simulations, '--')\n",
    "ax.legend(['Normal Distribution Curve'])\n"
   ],
   "outputs": [
    {
     "output_type": "execute_result",
     "data": {
      "text/plain": [
       "<matplotlib.legend.Legend at 0x126895070>"
      ]
     },
     "metadata": {},
     "execution_count": 2
    },
    {
     "output_type": "display_data",
     "data": {
      "image/png": "[encoded data removed]",
      "text/plain": [
       "<Figure size 576x288 with 1 Axes>"
      ]
     },
     "metadata": {
      "needs_background": "light"
     }
    }
   ],
   "metadata": {}
  },
  {
   "cell_type": "code",
   "execution_count": 3,
   "source": [
    "## provide a verbal explanation of the data with key takeaways\n",
    "\n",
    "total_invited = df['Party_Size'].sum()\n",
    "sim_max = results_df['Total Attendees'].max()\n",
    "\n",
    "print(f\"Typically, wedding websites will tell you to expect 80% of your invitees to attend.  You have invited {total_invited} people to the wedding.  The 80% rule would tell you to expect {round(0.8*total_invited)} people.  The highest attendance count seen in {num_simulations} simulations was {sim_max} people.\\n\")\n",
    "\n",
    "print(f\"The Monte Carlo Analysis using {num_simulations} simulations matches the form of a normal distribution with a mean of {sim_mean} people and a standard deviation of {sim_std} people.  Using this normalized distribution characterization, the table below provides estimates of attendance ranges along with their likelihood.\\n\")\n",
    "\n",
    "if include_plus_ones:\n",
    "  print(f\"You have chosen to allow guest party sizes of 1 to invite a plus-one guest.  The chance that a plus-one guest spot will be filled is {chance_of_plus_ones}.  Allowing for plus-ones increased your invite count by {plus_ones_invited} and your wedding attendance by {plus_ones_attending_avg} on average.\\n\\n\")\n",
    "else:\n",
    "  print(\"You elected to not allow plus-one invites to your wedding.\\n\\n\")\n",
    "\n",
    "headers = ['Confidence','Range Minimum', 'Range Maximum', '\\u03C3']\n",
    "table_data = [\n",
    "  ['84.13%',0,0,'1\\u03C3'],\n",
    "  ['93.32%',0,0,'1.5\\u03C3'],\n",
    "  ['97.73%',0,0,'2\\u03C3'],\n",
    "  ['99.38%',0,0,'2.5\\u03C3'],\n",
    "  ['99.87%',0,0,'3\\u03C3'],\n",
    "  ['99.98%',0,0,'3.5\\u03C3'],\n",
    "]\n",
    "sigma = 1\n",
    "\n",
    "for row in range(len(table_data)):\n",
    "  table_data[row][1] = sim_mean - sigma * sim_std\n",
    "  table_data[row][2] = sim_mean + sigma * sim_std\n",
    "  sigma += 0.5\n",
    "\n",
    "print(\"*\"*13 + \"ATTENDANCE RANGES WITH CONFIDENCE\" + \"*\"*13 + \"\\n\")\n",
    "print(tabulate(table_data,headers=headers, tablefmt='orgtbl', numalign='center', stralign='center'))"
   ],
   "outputs": [
    {
     "output_type": "stream",
     "name": "stdout",
     "text": [
      "Typically, wedding websites will tell you to expect 80% of your invitees to attend.  You have invited 148 people to the wedding.  The 80% rule would tell you to expect 118 people.  The highest attendance count seen in 10000 simulations was 135.0 people.\n",
      "\n",
      "The Monte Carlo Analysis using 10000 simulations matches the form of a normal distribution with a mean of 113.1 people and a standard deviation of 6.5 people.  Using this normalized distribution characterization, the table below provides estimates of attendance ranges along with their likelihood.\n",
      "\n",
      "You have chosen to allow guest party sizes of 1 to invite a plus-one guest.  The chance that a plus-one guest spot will be filled is 0.6.  Allowing for plus-ones increased your invite count by 22 and your wedding attendance by 10.0943 on average.\n",
      "\n",
      "\n",
      "*************ATTENDANCE RANGES WITH CONFIDENCE*************\n",
      "\n",
      "|  Confidence  |  Range Minimum  |  Range Maximum  |  σ   |\n",
      "|--------------+-----------------+-----------------+------|\n",
      "|    84.13%    |      106.6      |      119.6      |  1σ  |\n",
      "|    93.32%    |     103.35      |     122.85      | 1.5σ |\n",
      "|    97.73%    |      100.1      |      126.1      |  2σ  |\n",
      "|    99.38%    |      96.85      |     129.35      | 2.5σ |\n",
      "|    99.87%    |      93.6       |      132.6      |  3σ  |\n",
      "|    99.98%    |      90.35      |     135.85      | 3.5σ |\n"
     ]
    }
   ],
   "metadata": {}
  }
 ],
 "metadata": {
  "orig_nbformat": 4,
  "language_info": {
   "name": "python",
   "version": "3.9.7",
   "mimetype": "text/x-python",
   "codemirror_mode": {
    "name": "ipython",
    "version": 3
   },
   "pygments_lexer": "ipython3",
   "nbconvert_exporter": "python",
   "file_extension": ".py"
  },
  "kernelspec": {
   "name": "python3",
   "display_name": "Python 3.9.7 64-bit ('.venv': poetry)"
  },
  "interpreter": {
   "hash": "9bdb9c37475974b905a243d43f4e6677f06520167fbf65798c9e0eb8a5dee7f4"
  }
 },
 "nbformat": 4,
 "nbformat_minor": 2
}