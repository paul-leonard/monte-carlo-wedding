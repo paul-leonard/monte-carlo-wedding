{
 "cells": [
  {
   "cell_type": "code",
   "execution_count": 27,
   "source": [
    "import pandas as pd\n",
    "import numpy as np"
   ],
   "outputs": [],
   "metadata": {}
  },
  {
   "cell_type": "markdown",
   "source": [
    "INPUT:\n",
    "CSV file with the headers (\"Chance_of_Attendance,Party_Size\") on the first line.  Each line then contains two values separated by a comma.  The first value is the chance of that guest party attending the wedding.  The second number is the total number of people in that guest party (single, couple, family).\n",
    "\n",
    "ASSUMPTIONS:\n",
    "Either the whole party attends, or none of the party attends."
   ],
   "metadata": {}
  },
  {
   "cell_type": "code",
   "execution_count": 24,
   "source": [
    "df = pd.read_csv('wedding_guests.csv')\n",
    "\n",
    "num_simulations = 1000\n",
    "sim_results = []\n",
    "\n",
    "for i in range(num_simulations):\n",
    "  df['Attending?'] = df.apply(lambda row: np.random.choice([1,0],p=[row.Chance_of_Attendance, 1-row.Chance_of_Attendance]),axis=1)\n",
    "\n",
    "  df['Attending_Size'] = df['Party_Size'] * df['Attending?']\n",
    "\n",
    "  sim_results.append([\n",
    "  df['Attending?'].sum(),\n",
    "  df['Attending_Size'].mean(),\n",
    "  df['Attending_Size'].sum().round(0)])\n",
    "\n",
    "  results_df = pd.DataFrame.from_records(sim_results, columns=['Parties Attending','Average Party Size','Total Attendees'])"
   ],
   "outputs": [],
   "metadata": {}
  },
  {
   "cell_type": "code",
   "execution_count": 25,
   "source": [
    "results_df.describe().style.format(precision=2)"
   ],
   "outputs": [
    {
     "output_type": "execute_result",
     "data": {
      "text/html": [
       "<style type=\"text/css\">\n",
       "</style>\n",
       "<table id=\"T_435fd_\">\n",
       "  <thead>\n",
       "    <tr>\n",
       "      <th class=\"blank level0\" >&nbsp;</th>\n",
       "      <th class=\"col_heading level0 col0\" >Parties Attending</th>\n",
       "      <th class=\"col_heading level0 col1\" >Average Party Size</th>\n",
       "      <th class=\"col_heading level0 col2\" >Total Attendees</th>\n",
       "    </tr>\n",
       "  </thead>\n",
       "  <tbody>\n",
       "    <tr>\n",
       "      <th id=\"T_435fd_level0_row0\" class=\"row_heading level0 row0\" >count</th>\n",
       "      <td id=\"T_435fd_row0_col0\" class=\"data row0 col0\" >1000.00</td>\n",
       "      <td id=\"T_435fd_row0_col1\" class=\"data row0 col1\" >1000.00</td>\n",
       "      <td id=\"T_435fd_row0_col2\" class=\"data row0 col2\" >1000.00</td>\n",
       "    </tr>\n",
       "    <tr>\n",
       "      <th id=\"T_435fd_level0_row1\" class=\"row_heading level0 row1\" >mean</th>\n",
       "      <td id=\"T_435fd_row1_col0\" class=\"data row1 col0\" >59.84</td>\n",
       "      <td id=\"T_435fd_row1_col1\" class=\"data row1 col1\" >1.21</td>\n",
       "      <td id=\"T_435fd_row1_col2\" class=\"data row1 col2\" >102.90</td>\n",
       "    </tr>\n",
       "    <tr>\n",
       "      <th id=\"T_435fd_level0_row2\" class=\"row_heading level0 row2\" >std</th>\n",
       "      <td id=\"T_435fd_row2_col0\" class=\"data row2 col0\" >3.30</td>\n",
       "      <td id=\"T_435fd_row2_col1\" class=\"data row2 col1\" >0.07</td>\n",
       "      <td id=\"T_435fd_row2_col2\" class=\"data row2 col2\" >6.00</td>\n",
       "    </tr>\n",
       "    <tr>\n",
       "      <th id=\"T_435fd_level0_row3\" class=\"row_heading level0 row3\" >min</th>\n",
       "      <td id=\"T_435fd_row3_col0\" class=\"data row3 col0\" >50.00</td>\n",
       "      <td id=\"T_435fd_row3_col1\" class=\"data row3 col1\" >0.98</td>\n",
       "      <td id=\"T_435fd_row3_col2\" class=\"data row3 col2\" >83.00</td>\n",
       "    </tr>\n",
       "    <tr>\n",
       "      <th id=\"T_435fd_level0_row4\" class=\"row_heading level0 row4\" >25%</th>\n",
       "      <td id=\"T_435fd_row4_col0\" class=\"data row4 col0\" >58.00</td>\n",
       "      <td id=\"T_435fd_row4_col1\" class=\"data row4 col1\" >1.16</td>\n",
       "      <td id=\"T_435fd_row4_col2\" class=\"data row4 col2\" >99.00</td>\n",
       "    </tr>\n",
       "    <tr>\n",
       "      <th id=\"T_435fd_level0_row5\" class=\"row_heading level0 row5\" >50%</th>\n",
       "      <td id=\"T_435fd_row5_col0\" class=\"data row5 col0\" >60.00</td>\n",
       "      <td id=\"T_435fd_row5_col1\" class=\"data row5 col1\" >1.21</td>\n",
       "      <td id=\"T_435fd_row5_col2\" class=\"data row5 col2\" >103.00</td>\n",
       "    </tr>\n",
       "    <tr>\n",
       "      <th id=\"T_435fd_level0_row6\" class=\"row_heading level0 row6\" >75%</th>\n",
       "      <td id=\"T_435fd_row6_col0\" class=\"data row6 col0\" >62.00</td>\n",
       "      <td id=\"T_435fd_row6_col1\" class=\"data row6 col1\" >1.26</td>\n",
       "      <td id=\"T_435fd_row6_col2\" class=\"data row6 col2\" >107.00</td>\n",
       "    </tr>\n",
       "    <tr>\n",
       "      <th id=\"T_435fd_level0_row7\" class=\"row_heading level0 row7\" >max</th>\n",
       "      <td id=\"T_435fd_row7_col0\" class=\"data row7 col0\" >69.00</td>\n",
       "      <td id=\"T_435fd_row7_col1\" class=\"data row7 col1\" >1.44</td>\n",
       "      <td id=\"T_435fd_row7_col2\" class=\"data row7 col2\" >122.00</td>\n",
       "    </tr>\n",
       "  </tbody>\n",
       "</table>\n"
      ],
      "text/plain": [
       "<pandas.io.formats.style.Styler at 0x13dee3ee0>"
      ]
     },
     "metadata": {},
     "execution_count": 25
    }
   ],
   "metadata": {}
  },
  {
   "cell_type": "code",
   "execution_count": 26,
   "source": [
    "ax = results_df['Total Attendees'].plot(kind='hist', title=\"Possible Wedding Attendance Distribution\", xlabel=\"Attendees\", ylabel='Frequency in 1000 Simulations')"
   ],
   "outputs": [
    {
     "output_type": "display_data",
     "data": {
      "image/png": "[encoded data removed]",
      "text/plain": [
       "<Figure size 432x288 with 1 Axes>"
      ]
     },
     "metadata": {
      "needs_background": "light"
     }
    }
   ],
   "metadata": {}
  },
  {
   "cell_type": "markdown",
   "source": [],
   "metadata": {}
  }
 ],
 "metadata": {
  "orig_nbformat": 4,
  "language_info": {
   "name": "python",
   "version": "3.9.7",
   "mimetype": "text/x-python",
   "codemirror_mode": {
    "name": "ipython",
    "version": 3
   },
   "pygments_lexer": "ipython3",
   "nbconvert_exporter": "python",
   "file_extension": ".py"
  },
  "kernelspec": {
   "name": "python3",
   "display_name": "Python 3.9.7 64-bit ('.venv': poetry)"
  },
  "interpreter": {
   "hash": "9bdb9c37475974b905a243d43f4e6677f06520167fbf65798c9e0eb8a5dee7f4"
  }
 },
 "nbformat": 4,
 "nbformat_minor": 2
}